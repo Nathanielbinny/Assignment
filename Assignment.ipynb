{
 "cells": [
  {
   "cell_type": "code",
   "execution_count": 1,
   "metadata": {},
   "outputs": [
    {
     "name": "stdout",
     "output_type": "stream",
     "text": [
      "row5\n",
      "col5\n",
      "* * * * * \n",
      "* * * * * \n",
      "* * * * * \n",
      "* * * * * \n",
      "* * * * * \n"
     ]
    }
   ],
   "source": [
    "row=int(input('row'))\n",
    "col=int(input('col'))\n",
    "for i in range(row):\n",
    "    for j in range(col):\n",
    "        print(\"*\",end=' ')\n",
    "    print()"
   ]
  },
  {
   "cell_type": "code",
   "execution_count": 2,
   "metadata": {},
   "outputs": [
    {
     "name": "stdout",
     "output_type": "stream",
     "text": [
      "row12\n",
      "col2\n",
      "1 1 \n",
      "2 2 \n",
      "3 3 \n",
      "4 4 \n",
      "5 5 \n",
      "6 6 \n",
      "7 7 \n",
      "8 8 \n",
      "9 9 \n",
      "1 1 \n",
      "2 2 \n",
      "3 3 \n"
     ]
    }
   ],
   "source": [
    "row=int(input('row'))\n",
    "col=int(input('col'))\n",
    "x=1\n",
    "for i in range(row):\n",
    "    for j in range(col):\n",
    "        print(x,end=' ')\n",
    "    print()\n",
    "    x=x+1\n",
    "    if x>9:\n",
    "        x=1"
   ]
  },
  {
   "cell_type": "code",
   "execution_count": 3,
   "metadata": {},
   "outputs": [
    {
     "name": "stdout",
     "output_type": "stream",
     "text": [
      "row2\n",
      "col12\n",
      "1 2 3 4 5 6 7 8 9 1 2 3 \n",
      "1 2 3 4 5 6 7 8 9 1 2 3 \n"
     ]
    }
   ],
   "source": [
    "row=int(input('row'))\n",
    "col=int(input('col'))\n",
    "\n",
    "for i in range(row):\n",
    "    x=1\n",
    "    for j in range(col):\n",
    "        print(x,end=' ')\n",
    "        x=x+1\n",
    "        if x>9:\n",
    "            x=1\n",
    "    print()\n",
    "    "
   ]
  },
  {
   "cell_type": "code",
   "execution_count": 4,
   "metadata": {},
   "outputs": [
    {
     "name": "stdout",
     "output_type": "stream",
     "text": [
      "row2\n",
      "col12\n",
      "9 8 7 6 5 4 3 2 1 9 8 7 \n",
      "9 8 7 6 5 4 3 2 1 9 8 7 \n"
     ]
    }
   ],
   "source": [
    "row=int(input('row'))\n",
    "col=int(input('col'))\n",
    "\n",
    "for i in range(row):\n",
    "    if col>9:\n",
    "        val=9\n",
    "    for j in range(col):\n",
    "        print(val,end=' ')\n",
    "        val-=1\n",
    "        if val==0:\n",
    "            val=9\n",
    "    print()\n",
    "    "
   ]
  },
  {
   "cell_type": "code",
   "execution_count": 5,
   "metadata": {},
   "outputs": [
    {
     "name": "stdout",
     "output_type": "stream",
     "text": [
      "row12\n",
      "col2\n",
      "A A \n",
      "B B \n",
      "C C \n",
      "D D \n",
      "E E \n",
      "F F \n",
      "G G \n",
      "H H \n",
      "I I \n",
      "J J \n",
      "K K \n",
      "L L \n"
     ]
    }
   ],
   "source": [
    "row=int(input('row'))\n",
    "col=int(input('col'))\n",
    "x=ord('A')\n",
    "for i in range(row):\n",
    "    for j in range(col):\n",
    "        print(chr(x),end=' ')\n",
    "    print()\n",
    "    x=x+1\n",
    "    if x>ord('Z'):\n",
    "        x=ord(\"A\")"
   ]
  },
  {
   "cell_type": "code",
   "execution_count": 6,
   "metadata": {},
   "outputs": [
    {
     "name": "stdout",
     "output_type": "stream",
     "text": [
      "row2\n",
      "col28\n",
      "A B C D E F G H I J K L M N O P Q R S T U V W X Y Z A B \n",
      "A B C D E F G H I J K L M N O P Q R S T U V W X Y Z A B \n"
     ]
    }
   ],
   "source": [
    "row=int(input('row'))\n",
    "col=int(input('col'))\n",
    "\n",
    "for i in range(row):\n",
    "    x=ord('A')\n",
    "    for j in range(col):\n",
    "        print(chr(x),end=' ')\n",
    "        x=x+1\n",
    "        if x>ord('Z'):\n",
    "            x=ord(\"A\")\n",
    "    print()\n",
    "    "
   ]
  },
  {
   "cell_type": "code",
   "execution_count": 7,
   "metadata": {},
   "outputs": [
    {
     "name": "stdout",
     "output_type": "stream",
     "text": [
      "row28\n",
      "col2\n",
      "Z Z \n",
      "Y Y \n",
      "X X \n",
      "W W \n",
      "V V \n",
      "U U \n",
      "T T \n",
      "S S \n",
      "R R \n",
      "Q Q \n",
      "P P \n",
      "O O \n",
      "N N \n",
      "M M \n",
      "L L \n",
      "K K \n",
      "J J \n",
      "I I \n",
      "H H \n",
      "G G \n",
      "F F \n",
      "E E \n",
      "D D \n",
      "C C \n",
      "B B \n",
      "A A \n",
      "Z Z \n",
      "Y Y \n"
     ]
    }
   ],
   "source": [
    "row=int(input('row'))\n",
    "col=int(input('col'))\n",
    "val=ord('A')+row-1\n",
    "if val>ord('Z'):\n",
    "    val=ord(\"Z\")\n",
    "for i in range(row):\n",
    "    for j in range(col):\n",
    "        print(chr(val),end=' ')\n",
    "    val-=1\n",
    "    if val<ord('A'):\n",
    "        val=ord('Z')\n",
    "    print()\n",
    "    "
   ]
  },
  {
   "cell_type": "code",
   "execution_count": 8,
   "metadata": {},
   "outputs": [
    {
     "name": "stdout",
     "output_type": "stream",
     "text": [
      "row2\n",
      "col28\n",
      "Z Y X W V U T S R Q P O N M L K J I H G F E D C B A Z Y \n",
      "Z Y X W V U T S R Q P O N M L K J I H G F E D C B A Z Y \n"
     ]
    }
   ],
   "source": [
    "row=int(input('row'))\n",
    "col=int(input('col'))\n",
    "\n",
    "for i in range(row):\n",
    "    val=ord('A')+col-1\n",
    "    if val>ord('Z'):\n",
    "        val=ord(\"Z\")\n",
    "    for j in range(col):\n",
    "        print(chr(val),end=' ')\n",
    "        val-=1\n",
    "        if val<ord('A'):\n",
    "            val=ord('Z')\n",
    "    print()\n",
    "    "
   ]
  },
  {
   "cell_type": "code",
   "execution_count": 9,
   "metadata": {},
   "outputs": [
    {
     "name": "stdout",
     "output_type": "stream",
     "text": [
      "row4\n",
      "* \n",
      "* * \n",
      "* * * \n",
      "* * * * \n"
     ]
    }
   ],
   "source": [
    "row=int(input('row'))\n",
    "for i in range(1,row+1):\n",
    "    print(\"* \"*i)"
   ]
  },
  {
   "cell_type": "code",
   "execution_count": 10,
   "metadata": {},
   "outputs": [
    {
     "name": "stdout",
     "output_type": "stream",
     "text": [
      "* \n",
      "* * \n",
      "* * * \n",
      "* * * * \n"
     ]
    }
   ],
   "source": [
    "for i in range(row):\n",
    "    for j in range(row):\n",
    "        if i>=j:\n",
    "            print(\"*\",end=' ')\n",
    "    print()"
   ]
  },
  {
   "cell_type": "code",
   "execution_count": 11,
   "metadata": {},
   "outputs": [
    {
     "name": "stdout",
     "output_type": "stream",
     "text": [
      "* * * * \n",
      "* * * \n",
      "* * \n",
      "* \n"
     ]
    }
   ],
   "source": [
    "for i in range(row):\n",
    "    for j in range(row):\n",
    "        if i<=j:\n",
    "            print(\"*\",end=' ')\n",
    "    print()"
   ]
  },
  {
   "cell_type": "code",
   "execution_count": 12,
   "metadata": {},
   "outputs": [
    {
     "name": "stdout",
     "output_type": "stream",
     "text": [
      "*       \n",
      "  *     \n",
      "    *   \n",
      "      * \n"
     ]
    }
   ],
   "source": [
    "for i in range(row):\n",
    "    for j in range(row):\n",
    "        if i==j:\n",
    "            print(\"*\",end=' ')\n",
    "        else:\n",
    "            print(\" \",end=\" \")\n",
    "    print()"
   ]
  },
  {
   "cell_type": "code",
   "execution_count": 13,
   "metadata": {},
   "outputs": [
    {
     "name": "stdout",
     "output_type": "stream",
     "text": [
      "1 \n",
      "2 3 \n",
      "4 5 6 \n",
      "7 8 9 1 \n"
     ]
    }
   ],
   "source": [
    "val=1\n",
    "for i in range(row):\n",
    "    for j in range(row):\n",
    "        if i>=j:\n",
    "            print(val,end=' ')\n",
    "            val+=1\n",
    "            if val>9:\n",
    "                val=1\n",
    "    print()"
   ]
  },
  {
   "cell_type": "code",
   "execution_count": 14,
   "metadata": {},
   "outputs": [
    {
     "name": "stdout",
     "output_type": "stream",
     "text": [
      "row: 12\n",
      "1                       \n",
      "  2                     \n",
      "    3                   \n",
      "      4                 \n",
      "        5               \n",
      "          6             \n",
      "            7           \n",
      "              8         \n",
      "                9       \n",
      "                  1     \n",
      "                    2   \n",
      "                      3 \n"
     ]
    }
   ],
   "source": [
    "row=int(input(\"row: \"))\n",
    "val=1\n",
    "for i in range(row):\n",
    "    for j in range(row):\n",
    "        if i==j:\n",
    "            print(val,end=' ')\n",
    "            val+=1\n",
    "            if val>9:\n",
    "                val=1\n",
    "        else:\n",
    "            print(\" \",end=\" \")\n",
    "    print()"
   ]
  },
  {
   "cell_type": "code",
   "execution_count": 15,
   "metadata": {},
   "outputs": [
    {
     "name": "stdout",
     "output_type": "stream",
     "text": [
      "row: 28\n",
      "A                                                       \n",
      "  B                                                     \n",
      "    C                                                   \n",
      "      D                                                 \n",
      "        E                                               \n",
      "          F                                             \n",
      "            G                                           \n",
      "              H                                         \n",
      "                I                                       \n",
      "                  J                                     \n",
      "                    K                                   \n",
      "                      L                                 \n",
      "                        M                               \n",
      "                          N                             \n",
      "                            O                           \n",
      "                              P                         \n",
      "                                Q                       \n",
      "                                  R                     \n",
      "                                    S                   \n",
      "                                      T                 \n",
      "                                        U               \n",
      "                                          V             \n",
      "                                            W           \n",
      "                                              X         \n",
      "                                                Y       \n",
      "                                                  Z     \n",
      "                                                    A   \n",
      "                                                      B \n"
     ]
    }
   ],
   "source": [
    "row=int(input(\"row: \"))\n",
    "val=ord(\"A\")\n",
    "for i in range(row):\n",
    "    for j in range(row):\n",
    "        if i==j:\n",
    "            print(chr(val),end=' ')\n",
    "            val+=1\n",
    "            if val>ord(\"Z\"):\n",
    "                val=ord(\"A\")\n",
    "        else:\n",
    "            print(\" \",end=\" \")\n",
    "    print()"
   ]
  },
  {
   "cell_type": "code",
   "execution_count": 16,
   "metadata": {},
   "outputs": [
    {
     "name": "stdout",
     "output_type": "stream",
     "text": [
      "row: 12\n",
      "1                       \n",
      "  2                     \n",
      "    3                   \n",
      "      4                 \n",
      "        5               \n",
      "          6             \n",
      "            7           \n",
      "              8         \n",
      "                9       \n",
      "                  1     \n",
      "                    2   \n",
      "                      3 \n"
     ]
    }
   ],
   "source": [
    "row=int(input(\"row: \"))\n",
    "val=1\n",
    "for i in range(row):\n",
    "    for j in range(row):\n",
    "        if i==j:\n",
    "            print(val,end=' ')\n",
    "            val+=1\n",
    "            if val>9:\n",
    "                val=1\n",
    "        else:\n",
    "            print(\" \",end=\" \")\n",
    "    print()"
   ]
  },
  {
   "cell_type": "code",
   "execution_count": 17,
   "metadata": {},
   "outputs": [
    {
     "name": "stdout",
     "output_type": "stream",
     "text": [
      "row28\n",
      "A \n",
      "A B \n",
      "A B C \n",
      "A B C D \n",
      "A B C D E \n",
      "A B C D E F \n",
      "A B C D E F G \n",
      "A B C D E F G H \n",
      "A B C D E F G H I \n",
      "A B C D E F G H I J \n",
      "A B C D E F G H I J K \n",
      "A B C D E F G H I J K L \n",
      "A B C D E F G H I J K L M \n",
      "A B C D E F G H I J K L M N \n",
      "A B C D E F G H I J K L M N O \n",
      "A B C D E F G H I J K L M N O P \n",
      "A B C D E F G H I J K L M N O P Q \n",
      "A B C D E F G H I J K L M N O P Q R \n",
      "A B C D E F G H I J K L M N O P Q R S \n",
      "A B C D E F G H I J K L M N O P Q R S T \n",
      "A B C D E F G H I J K L M N O P Q R S T U \n",
      "A B C D E F G H I J K L M N O P Q R S T U V \n",
      "A B C D E F G H I J K L M N O P Q R S T U V W \n",
      "A B C D E F G H I J K L M N O P Q R S T U V W X \n",
      "A B C D E F G H I J K L M N O P Q R S T U V W X Y \n",
      "A B C D E F G H I J K L M N O P Q R S T U V W X Y Z \n",
      "A B C D E F G H I J K L M N O P Q R S T U V W X Y Z A \n",
      "A B C D E F G H I J K L M N O P Q R S T U V W X Y Z A B \n"
     ]
    }
   ],
   "source": [
    "row=int(input('row'))\n",
    "\n",
    "\n",
    "for i in range(row):\n",
    "    x=ord('A')\n",
    "    for j in range(row):\n",
    "        if i>=j:\n",
    "            print(chr(x),end=' ')\n",
    "            x=x+1\n",
    "            if x>ord('Z'):\n",
    "                x=ord(\"A\")\n",
    "    print()\n",
    "    "
   ]
  },
  {
   "cell_type": "code",
   "execution_count": 18,
   "metadata": {},
   "outputs": [
    {
     "name": "stdout",
     "output_type": "stream",
     "text": [
      "row28\n",
      "A \n",
      "B C \n",
      "D E F \n",
      "G H I J \n",
      "K L M N O \n",
      "P Q R S T U \n",
      "V W X Y Z A B \n",
      "C D E F G H I J \n",
      "K L M N O P Q R S \n",
      "T U V W X Y Z A B C \n",
      "D E F G H I J K L M N \n",
      "O P Q R S T U V W X Y Z \n",
      "A B C D E F G H I J K L M \n",
      "N O P Q R S T U V W X Y Z A \n",
      "B C D E F G H I J K L M N O P \n",
      "Q R S T U V W X Y Z A B C D E F \n",
      "G H I J K L M N O P Q R S T U V W \n",
      "X Y Z A B C D E F G H I J K L M N O \n",
      "P Q R S T U V W X Y Z A B C D E F G H \n",
      "I J K L M N O P Q R S T U V W X Y Z A B \n",
      "C D E F G H I J K L M N O P Q R S T U V W \n",
      "X Y Z A B C D E F G H I J K L M N O P Q R S \n",
      "T U V W X Y Z A B C D E F G H I J K L M N O P \n",
      "Q R S T U V W X Y Z A B C D E F G H I J K L M N \n",
      "O P Q R S T U V W X Y Z A B C D E F G H I J K L M \n",
      "N O P Q R S T U V W X Y Z A B C D E F G H I J K L M \n",
      "N O P Q R S T U V W X Y Z A B C D E F G H I J K L M N \n",
      "O P Q R S T U V W X Y Z A B C D E F G H I J K L M N O P \n"
     ]
    }
   ],
   "source": [
    "row=int(input('row'))\n",
    "\n",
    "x=ord('A')\n",
    "for i in range(row):\n",
    "    \n",
    "    for j in range(row):\n",
    "        if i>=j:\n",
    "            print(chr(x),end=' ')\n",
    "            x=x+1\n",
    "            if x>ord('Z'):\n",
    "                x=ord(\"A\")\n",
    "    print()\n",
    "    "
   ]
  },
  {
   "cell_type": "code",
   "execution_count": 19,
   "metadata": {},
   "outputs": [
    {
     "name": "stdout",
     "output_type": "stream",
     "text": [
      "row28\n",
      "B \n",
      "C D \n",
      "E F G \n",
      "H I J K \n",
      "L M N O P \n",
      "Q R S T U V \n",
      "W X Y Z A B C \n",
      "D E F G H I J K \n",
      "L M N O P Q R S T \n",
      "U V W X Y Z A B C D \n",
      "E F G H I J K L M N O \n",
      "P Q R S T U V W X Y Z A \n",
      "B C D E F G H I J K L M N \n",
      "O P Q R S T U V W X Y Z A B \n",
      "C D E F G H I J K L M N O P Q \n",
      "R S T U V W X Y Z A B C D E F G \n",
      "H I J K L M N O P Q R S T U V W X \n",
      "Y Z A B C D E F G H I J K L M N O P \n",
      "Q R S T U V W X Y Z A B C D E F G H I \n",
      "J K L M N O P Q R S T U V W X Y Z A B C \n",
      "D E F G H I J K L M N O P Q R S T U V W X \n",
      "Y Z A B C D E F G H I J K L M N O P Q R S T \n",
      "U V W X Y Z A B C D E F G H I J K L M N O P Q \n",
      "R S T U V W X Y Z A B C D E F G H I J K L M N O \n",
      "P Q R S T U V W X Y Z A B C D E F G H I J K L M N \n",
      "O P Q R S T U V W X Y Z A B C D E F G H I J K L M N \n",
      "O P Q R S T U V W X Y Z A B C D E F G H I J K L M N O \n",
      "P Q R S T U V W X Y Z A B C D E F G H I J K L M N O P Q \n"
     ]
    }
   ],
   "source": [
    "row=int(input('row'))\n",
    "val=row\n",
    "while(val>26):\n",
    "    val=val-26\n",
    "x=ord('A')+val-1\n",
    "for i in range(row):\n",
    "    \n",
    "    for j in range(row):\n",
    "        if i>=j:\n",
    "            print(chr(x),end=' ')\n",
    "            x=x+1\n",
    "            if x>ord('Z'):\n",
    "                x=ord(\"A\")\n",
    "    print()\n",
    "    "
   ]
  },
  {
   "cell_type": "code",
   "execution_count": 20,
   "metadata": {},
   "outputs": [
    {
     "name": "stdout",
     "output_type": "stream",
     "text": [
      "row: 12\n",
      "1                       \n",
      "2 3                     \n",
      "4 5 6                   \n",
      "7 8 9 1                 \n",
      "2 3 4 5 6               \n",
      "7 8 9 1 2 3             \n",
      "4 5 6 7 8 9 1           \n",
      "2 3 4 5 6 7 8 9         \n",
      "1 2 3 4 5 6 7 8 9       \n",
      "1 2 3 4 5 6 7 8 9 1     \n",
      "2 3 4 5 6 7 8 9 1 2 3   \n",
      "4 5 6 7 8 9 1 2 3 4 5 6 \n"
     ]
    }
   ],
   "source": [
    "row=int(input(\"row: \"))\n",
    "val=1\n",
    "for i in range(row):\n",
    "    for j in range(row):\n",
    "        if i>=j:\n",
    "            print(val,end=' ')\n",
    "            val+=1\n",
    "            if val>9:\n",
    "                val=1\n",
    "        else:\n",
    "            print(\" \",end=\" \")\n",
    "    print()"
   ]
  },
  {
   "cell_type": "code",
   "execution_count": 21,
   "metadata": {},
   "outputs": [
    {
     "name": "stdout",
     "output_type": "stream",
     "text": [
      "row: 12\n",
      "1 2 3 4 5 6 7 8 9 1 2 3 \n",
      "  4 5 6 7 8 9 1 2 3 4 5 \n",
      "    6 7 8 9 1 2 3 4 5 6 \n",
      "      7 8 9 1 2 3 4 5 6 \n",
      "        7 8 9 1 2 3 4 5 \n",
      "          6 7 8 9 1 2 3 \n",
      "            4 5 6 7 8 9 \n",
      "              1 2 3 4 5 \n",
      "                6 7 8 9 \n",
      "                  1 2 3 \n",
      "                    4 5 \n",
      "                      6 \n"
     ]
    }
   ],
   "source": [
    "row=int(input(\"row: \"))\n",
    "val=1\n",
    "for i in range(row):\n",
    "    for j in range(row):\n",
    "        if i<=j:\n",
    "            print(val,end=' ')\n",
    "            val+=1\n",
    "            if val>9:\n",
    "                val=1\n",
    "        else:\n",
    "            print(\" \",end=\" \")\n",
    "    print()"
   ]
  },
  {
   "cell_type": "code",
   "execution_count": 22,
   "metadata": {},
   "outputs": [
    {
     "name": "stdout",
     "output_type": "stream",
     "text": [
      "row: 12\n",
      "3 3 3 3 3 3 3 3 3 3 3 3 \n",
      "  2 2 2 2 2 2 2 2 2 2 2 \n",
      "    1 1 1 1 1 1 1 1 1 1 \n",
      "      9 9 9 9 9 9 9 9 9 \n",
      "        8 8 8 8 8 8 8 8 \n",
      "          7 7 7 7 7 7 7 \n",
      "            6 6 6 6 6 6 \n",
      "              5 5 5 5 5 \n",
      "                4 4 4 4 \n",
      "                  3 3 3 \n",
      "                    2 2 \n",
      "                      1 \n"
     ]
    }
   ],
   "source": [
    "row=int(input(\"row: \"))\n",
    "val=row\n",
    "while(val>9):\n",
    "    val=val-9\n",
    "\n",
    "for i in range(row):\n",
    "    for j in range(row):\n",
    "        if i<=j:\n",
    "            print(val,end=' ')\n",
    "        else:\n",
    "            print(\" \",end=\" \")\n",
    "    val-=1\n",
    "    if val==0:\n",
    "        val=9\n",
    "        \n",
    "    print()"
   ]
  },
  {
   "cell_type": "code",
   "execution_count": 23,
   "metadata": {},
   "outputs": [
    {
     "name": "stdout",
     "output_type": "stream",
     "text": [
      "row28\n",
      "B B B B B B B B B B B B B B B B B B B B B B B B B B B B \n",
      "A A A A A A A A A A A A A A A A A A A A A A A A A A A \n",
      "Z Z Z Z Z Z Z Z Z Z Z Z Z Z Z Z Z Z Z Z Z Z Z Z Z Z \n",
      "Y Y Y Y Y Y Y Y Y Y Y Y Y Y Y Y Y Y Y Y Y Y Y Y Y \n",
      "X X X X X X X X X X X X X X X X X X X X X X X X \n",
      "W W W W W W W W W W W W W W W W W W W W W W W \n",
      "V V V V V V V V V V V V V V V V V V V V V V \n",
      "U U U U U U U U U U U U U U U U U U U U U \n",
      "T T T T T T T T T T T T T T T T T T T T \n",
      "S S S S S S S S S S S S S S S S S S S \n",
      "R R R R R R R R R R R R R R R R R R \n",
      "Q Q Q Q Q Q Q Q Q Q Q Q Q Q Q Q Q \n",
      "P P P P P P P P P P P P P P P P \n",
      "O O O O O O O O O O O O O O O \n",
      "N N N N N N N N N N N N N N \n",
      "M M M M M M M M M M M M M \n",
      "L L L L L L L L L L L L \n",
      "K K K K K K K K K K K \n",
      "J J J J J J J J J J \n",
      "I I I I I I I I I \n",
      "H H H H H H H H \n",
      "G G G G G G G \n",
      "F F F F F F \n",
      "E E E E E \n",
      "D D D D \n",
      "C C C \n",
      "B B \n",
      "A \n"
     ]
    }
   ],
   "source": [
    "row=int(input('row'))\n",
    "val=row\n",
    "while(val>26):\n",
    "    val=val-26\n",
    "x=ord('A')+val-1\n",
    "for i in range(row):\n",
    "    \n",
    "    for j in range(row):\n",
    "        if i<=j:\n",
    "            print(chr(x),end=' ')\n",
    "    x=x-1\n",
    "    if x<ord('A'):\n",
    "        x=ord(\"Z\")\n",
    "    print()\n",
    "    "
   ]
  },
  {
   "cell_type": "code",
   "execution_count": 24,
   "metadata": {},
   "outputs": [
    {
     "name": "stdout",
     "output_type": "stream",
     "text": [
      "row28\n",
      "a b c d e f g h i j k l m n o p q r s t u v w x y z a b \n",
      "a b c d e f g h i j k l m n o p q r s t u v w x y z a \n",
      "a b c d e f g h i j k l m n o p q r s t u v w x y z \n",
      "a b c d e f g h i j k l m n o p q r s t u v w x y \n",
      "a b c d e f g h i j k l m n o p q r s t u v w x \n",
      "a b c d e f g h i j k l m n o p q r s t u v w \n",
      "a b c d e f g h i j k l m n o p q r s t u v \n",
      "a b c d e f g h i j k l m n o p q r s t u \n",
      "a b c d e f g h i j k l m n o p q r s t \n",
      "a b c d e f g h i j k l m n o p q r s \n",
      "a b c d e f g h i j k l m n o p q r \n",
      "a b c d e f g h i j k l m n o p q \n",
      "a b c d e f g h i j k l m n o p \n",
      "a b c d e f g h i j k l m n o \n",
      "a b c d e f g h i j k l m n \n",
      "a b c d e f g h i j k l m \n",
      "a b c d e f g h i j k l \n",
      "a b c d e f g h i j k \n",
      "a b c d e f g h i j \n",
      "a b c d e f g h i \n",
      "a b c d e f g h \n",
      "a b c d e f g \n",
      "a b c d e f \n",
      "a b c d e \n",
      "a b c d \n",
      "a b c \n",
      "a b \n",
      "a \n"
     ]
    }
   ],
   "source": [
    "row=int(input('row'))\n",
    "\n",
    "\n",
    "for i in range(row):\n",
    "    x=ord('a')\n",
    "    for j in range(row):\n",
    "        if i<=j:\n",
    "            print(chr(x),end=' ')\n",
    "            x=x+1\n",
    "            if x>ord('z'):\n",
    "                x=ord(\"a\")\n",
    "    print()\n",
    "    "
   ]
  },
  {
   "cell_type": "code",
   "execution_count": null,
   "metadata": {},
   "outputs": [],
   "source": []
  }
 ],
 "metadata": {
  "kernelspec": {
   "display_name": "Python 3",
   "language": "python",
   "name": "python3"
  },
  "language_info": {
   "codemirror_mode": {
    "name": "ipython",
    "version": 3
   },
   "file_extension": ".py",
   "mimetype": "text/x-python",
   "name": "python",
   "nbconvert_exporter": "python",
   "pygments_lexer": "ipython3",
   "version": "3.7.3"
  }
 },
 "nbformat": 4,
 "nbformat_minor": 4
}
